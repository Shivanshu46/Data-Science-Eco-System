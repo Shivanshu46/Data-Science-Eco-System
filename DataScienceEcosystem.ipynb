{
 "cells": [
  {
   "cell_type": "markdown",
   "metadata": {
    "tags": []
   },
   "source": [
    "# Data Science Tools and Ecosystem"
   ]
  },
  {
   "cell_type": "markdown",
   "metadata": {
    "tags": []
   },
   "source": [
    "# In this notebook, we summarize the various tools and technologies used in the field of data science. This includes programming languages like Python and R, libraries and frameworks like Pandas, NumPy, and TensorFlow, as well as visualization tools like Matplotlib and Seaborn. We also discuss the importance of data preprocessing, model training, and evaluation techniques. Additionally, we explore the data science ecosystem, which encompasses data collection, cleaning, analysis, and interpretation.\n"
   ]
  },
  {
   "cell_type": "markdown",
   "metadata": {
    "tags": []
   },
   "source": [
    "# Some of the popular languages that Data Scientists use are:"
   ]
  },
  {
   "cell_type": "markdown",
   "metadata": {},
   "source": [
    "# Introduction\n",
    "\n",
    "In this notebook, Data Science Tools and Ecosystem are summarized.\n"
   ]
  },
  {
   "cell_type": "markdown",
   "metadata": {},
   "source": [
    "# Some of the popular languages that Data Scientists use are:\n",
    "\n",
    "Some of the popular languages that Data Scientists use are:\n",
    "\n",
    "1. **Python**: Python is widely used in the field of data science due to its simplicity, versatility, and rich ecosystem of libraries such as Pandas, NumPy, and Scikit-learn.\n",
    "\n",
    "2. **R**: R is another popular language among data scientists, particularly in academia and research. It offers extensive statistical and graphical capabilities, making it well-suited for data analysis and visualization.\n",
    "\n",
    "3. **SQL**: While not a programming language in the traditional sense, SQL (Structured Query Language) is essential for querying and manipulating data stored in relational databases. Data scientists often use SQL to extract, transform, and analyze data from databases.\n",
    "\n",
    "4. **Julia**: Julia is a high-level, high-performance programming language specifically designed for numerical and scientific computing. It combines the ease of use of languages like Python with the speed of languages like C and Fortran, making it increasingly popular in the data science community.\n",
    "\n",
    "5. **Scala**: Scala is a general-purpose programming language that runs on the Java Virtual Machine (JVM). It is commonly used in big data processing frameworks like Apache Spark, making it a valuable tool for data scientists working with large-scale datasets.\n",
    "\n",
    "6. **JavaScript**: While not traditionally associated with data science, JavaScript is gaining popularity in the field due to its capabilities for web-based data visualization and interactive data applications, especially with libraries like D3.js and Plotly.js.\n"
   ]
  },
  {
   "cell_type": "markdown",
   "metadata": {},
   "source": [
    "# Some of the commonly used libraries used by Data Scientists include:\n",
    "\n",
    "Some of the commonly used libraries used by Data Scientists include:\n",
    "\n",
    "1. **Pandas**: Pandas is a powerful Python library for data manipulation and analysis. It provides data structures like DataFrame and Series, along with functions to clean, transform, and analyze data.\n",
    "\n",
    "2. **NumPy**: NumPy is a fundamental package for scientific computing in Python. It provides support for large, multi-dimensional arrays and matrices, along with a collection of mathematical functions to operate on these arrays efficiently.\n",
    "\n",
    "3. **Matplotlib**: Matplotlib is a plotting library for creating static, interactive, and animated visualizations in Python. It offers a wide range of plotting functions to visualize data in various formats such as line plots, scatter plots, histograms, and more.\n",
    "\n",
    "4. **Seaborn**: Seaborn is a statistical data visualization library based on Matplotlib. It provides a high-level interface for creating attractive and informative statistical graphics, making it easier to explore and understand complex datasets.\n",
    "\n",
    "5. **Scikit-learn**: Scikit-learn is a machine learning library in Python that provides simple and efficient tools for data mining and data analysis. It includes various algorithms for classification, regression, clustering, dimensionality reduction, and more, along with tools for model evaluation and preprocessing.\n",
    "\n",
    "6. **TensorFlow**: TensorFlow is an open-source machine learning framework developed by Google. It provides a comprehensive ecosystem of tools, libraries, and community resources for building and deploying machine learning models at scale.\n"
   ]
  },
  {
   "cell_type": "markdown",
   "metadata": {},
   "source": [
    "# Data Science Tools\n",
    "\n",
    "| Data Science Tools |\n",
    "|-------------------|\n",
    "| Jupyter Notebooks |\n",
    "| RStudio           |\n",
    "| VSCode            |\n"
   ]
  },
  {
   "cell_type": "markdown",
   "metadata": {},
   "source": [
    "### Below are a few examples of evaluating arithmetic expressions in Python\n",
    "\n",
    "In this cell, we'll explore some basic arithmetic operations in Python, such as addition, subtraction, multiplication, and division. Let's get started!\n"
   ]
  },
  {
   "cell_type": "markdown",
   "metadata": {},
   "source": [
    "# This is a simple arithmetic expression to multiply then add integers\n",
    "result = (3 * 4) + 5\n",
    "result\n"
   ]
  },
  {
   "cell_type": "markdown",
   "metadata": {},
   "source": [
    "# This will convert 200 minutes to hours by dividing by 60\n",
    "minutes = 200\n",
    "hours = minutes / 60\n",
    "hours\n"
   ]
  },
  {
   "cell_type": "markdown",
   "metadata": {},
   "source": [
    "# **Objectives:**\n",
    "\n",
    "- List popular languages for Data Science\n",
    "- Introduce common libraries used in Data Science\n",
    "- Demonstrate basic arithmetic operations in Python\n",
    "- Convert minutes to hours using Python expressions\n"
   ]
  },
  {
   "cell_type": "markdown",
   "metadata": {},
   "source": [
    "## Author\n",
    "\n",
    "Shivanshu Sinha\n"
   ]
  },
  {
   "cell_type": "code",
   "execution_count": null,
   "metadata": {},
   "outputs": [],
   "source": []
  }
 ],
 "metadata": {
  "kernelspec": {
   "display_name": "Python",
   "language": "python",
   "name": "conda-env-python-py"
  },
  "language_info": {
   "codemirror_mode": {
    "name": "ipython",
    "version": 3
   },
   "file_extension": ".py",
   "mimetype": "text/x-python",
   "name": "python",
   "nbconvert_exporter": "python",
   "pygments_lexer": "ipython3",
   "version": "3.7.12"
  }
 },
 "nbformat": 4,
 "nbformat_minor": 4
}
